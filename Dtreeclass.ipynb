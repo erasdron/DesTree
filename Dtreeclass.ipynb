{
 "cells": [
  {
   "cell_type": "markdown",
   "id": "e0599ee4",
   "metadata": {},
   "source": [
    "# 1. Загружаем библиотеки"
   ]
  },
  {
   "cell_type": "code",
   "execution_count": 1,
   "id": "ee302376",
   "metadata": {},
   "outputs": [],
   "source": [
    "import math\n",
    "import numpy as np\n",
    "import sklearn\n",
    "import sklearn.model_selection"
   ]
  },
  {
   "cell_type": "markdown",
   "id": "894e3f1e",
   "metadata": {},
   "source": [
    "# 2. Функции вычисления энтропии"
   ]
  },
  {
   "cell_type": "markdown",
   "id": "eb226f05",
   "metadata": {},
   "source": [
    "entropy_func-математическая функция.\n",
    "entropy_cal-возвращает энтропию группы данных.с1-кол-во одного класса, с2-кол-во другого класса.\n",
    "entropy_one_division-возвращает энтропию разделенной группы данных.\n",
    "get_entropy-энтропия разделения.\n",
    "y_predict - это разделенное решение, True / False и y_true может быть мульти-классом"
   ]
  },
  {
   "cell_type": "code",
   "execution_count": 2,
   "id": "78f21bc1",
   "metadata": {},
   "outputs": [],
   "source": [
    "def entropy_func(c, n):\n",
    "    p = c * 1.0 / n\n",
    "    return -p * math.log(p, 2)\n",
    "\n",
    "def entropy_cal(c1, c2):\n",
    "    if c1== 0 or c2 == 0: # если всего один класс в группе, то энтропия =0\n",
    "        return 0    \n",
    "    return entropy_func(c1, c1+c2) + entropy_func(c2, c1+c2)\n",
    "\n",
    "def entropy_one_division(division):\n",
    "    s = 0\n",
    "    n = len(division)\n",
    "    classes = set(division)\n",
    "    for c in classes:# найти энтропию для каждого класса\n",
    "        n_c = sum(division==c)\n",
    "        s += n_c*1.0/n * entropy_cal(sum(division==c), sum(division!=c))# средне взвешенная\n",
    "    return s, n\n",
    "\n",
    "def get_entropy(y_predict, y_real):\n",
    "    if len(y_predict) != len(y_real):\n",
    "        print('y_predict и y должны быть одной длины')\n",
    "        return None\n",
    "    n = len(y_real)\n",
    "    s_true, n_true = entropy_one_division(y_real[y_predict]) # левая часть энтропии\n",
    "    s_false, n_false = entropy_one_division(y_real[~y_predict]) # правая часть энтропии\n",
    "    s = n_true*1.0/n * s_true + n_false*1.0/n * s_false # общая средневзешенная энтропия\n",
    "    return s"
   ]
  },
  {
   "cell_type": "markdown",
   "id": "444e0a14",
   "metadata": {},
   "source": [
    "# 3. Класс DesisionTreeClass\n",
    "В нем x- матрица входных параметров, y-вектор исходов, par_node- дерево, сгенерированное для x и y, \n",
    "depth- глубина текущего слоя.\n"
   ]
  },
  {
   "cell_type": "code",
   "execution_count": 3,
   "id": "35640372",
   "metadata": {},
   "outputs": [],
   "source": [
    "class DecisionTreeClass(object):\n",
    "    def __init__(self, max_depth):\n",
    "        self.depth = 0\n",
    "        self.max_depth = max_depth\n",
    "    \n",
    "    def fit(self, x, y, par_node={}, depth=0):\n",
    "        if par_node is None: #case 1-дерево останавливается на предыдущем уровне\n",
    "            print(f\"parnode is none. \\n{par_node}\")\n",
    "            return None\n",
    "        elif len(y) == 0: #case 2 нет данных\n",
    "            return None\n",
    "        elif self.all_same(y): # case 3 все y однинаковы\n",
    "            return {'val':y[0]}\n",
    "        elif depth >= self.max_depth: # case 4  достигнута макс длина\n",
    "            return None\n",
    "        else: \n",
    "        #находим split с учетом полученной информации\n",
    "            col, cutoff, entropy = self.split_all(x, y)\n",
    "            y_left = y[x[:, col] < cutoff] #данные слева\n",
    "            y_right = y[x[:, col] >= cutoff] #данные справа\n",
    "            par_node = {'col': iris.feature_names[col], 'index_col':col,\n",
    "                        'cutoff':cutoff,\n",
    "                       'val': np.round(np.mean(y))} # сохраняем информацию\n",
    "            par_node['left'] = self.fit(x[x[:, col] < cutoff], y_left, {}, depth+1) #генерация дерева для левых данных\n",
    "            par_node['right'] = self.fit(x[x[:, col] >= cutoff], y_right, {}, depth+1) #генерация дерева для правых данных\n",
    "            self.depth += 1 #увеличение глубины\n",
    "            self.trees = par_node\n",
    "            return par_node\n",
    "    \n",
    "    def split_all(self, x, y):\n",
    "        col = None\n",
    "        min_entropy = 10\n",
    "        cutoff = None\n",
    "        for i, c in enumerate(x.T): # итерация каждой функции\n",
    "            entropy, cur_cutoff = self.split(c, y)# найти лучшее разделение этой функции\n",
    "            if entropy == 0:# находим первую отсечку\n",
    "                return i, cur_cutoff, entropy\n",
    "            elif entropy <= min_entropy:# проверка\n",
    "                min_entropy = entropy\n",
    "                col = i\n",
    "                cutoff = cur_cutoff\n",
    "        return col, cutoff, min_entropy\n",
    "    \n",
    "    def split(self, col, y):\n",
    "        \"\"\"\n",
    "        Внутренняя функция. Разбивает матрицу на 2 смежные части, максимизируя критерий.\n",
    "        \"\"\"\n",
    "        min_entropy = 10\n",
    "        n = len(y)\n",
    "        for value in set(col): # итерация по каждому значению в столбце\n",
    "            y_predict = col < value # разделяем y на 2 группы\n",
    "            m_entropy = get_entropy(y_predict, y)\n",
    "            if m_entropy <= min_entropy:\n",
    "                min_entropy = m_entropy\n",
    "                cutoff = value\n",
    "        return min_entropy, cutoff\n",
    "    \n",
    "    def all_same(self, items):\n",
    "        return all(x == items[0] for x in items)\n",
    "                                           \n",
    "    def predict(self, x):\n",
    "        \"\"\"\n",
    "        Выводит вектор предсказаний для заданной матрицы X\n",
    "        \"\"\"\n",
    "        results = np.array([0]*len(x))\n",
    "        for i, c in enumerate(x):# для каждой строки в тестовых данных\n",
    "            results[i] = self._predict(c)\n",
    "        return results\n",
    "    def _predict(self, row):\n",
    "        tree = self.trees# получаем дерево, которое мы строим в обучении\n",
    "        while tree.get('cutoff'):# если не листовой узел\n",
    "            if row[tree['index_col']] < tree['cutoff']:# получить направление\n",
    "                if not tree['left']:\n",
    "                    return tree.get('val')\n",
    "                tree = tree['left']\n",
    "                 \n",
    "            else:\n",
    "                if not tree['right']:# если листовой узел,то возвращаем значение\n",
    "                    return tree.get('val')\n",
    "                tree = tree['right']\n",
    "        else:\n",
    "            return tree.get('val')\n",
    "    \n"
   ]
  },
  {
   "cell_type": "markdown",
   "id": "0d1643e6",
   "metadata": {},
   "source": [
    "# 4. Подготовка и тестирование данных.\n",
    "Загружаем датасет wine с помощью sklearn.datasets"
   ]
  },
  {
   "cell_type": "code",
   "execution_count": 4,
   "id": "383277d3",
   "metadata": {},
   "outputs": [
    {
     "name": "stdout",
     "output_type": "stream",
     "text": [
      "{'col': 'color_intensity',\n",
      " 'cutoff': 3.7,\n",
      " 'index_col': 9,\n",
      " 'left': {'val': 1},\n",
      " 'right': {'col': 'proline',\n",
      "           'cutoff': 880.0,\n",
      "           'index_col': 12,\n",
      "           'left': {'col': 'flavanoids',\n",
      "                    'cutoff': 1.41,\n",
      "                    'index_col': 6,\n",
      "                    'left': {'val': 2},\n",
      "                    'right': {'col': 'magnesium',\n",
      "                              'cutoff': 102.0,\n",
      "                              'index_col': 4,\n",
      "                              'left': {'val': 1},\n",
      "                              'right': {'val': 0},\n",
      "                              'val': 1.0},\n",
      "                    'val': 2.0},\n",
      "           'right': {'val': 0},\n",
      "           'val': 1.0},\n",
      " 'val': 1.0}\n"
     ]
    }
   ],
   "source": [
    "from sklearn.datasets import load_wine\n",
    "from pprint import pprint\n",
    "from sklearn.model_selection import train_test_split\n",
    "iris = load_wine()\n",
    "x = iris.data\n",
    "y = iris.target\n",
    "X_train, X_test, y_train, y_test = train_test_split(iris.data, iris.target,test_size=0.3, random_state=121)\n",
    "clf = DecisionTreeClass(max_depth=20)\n",
    "m = clf.fit(X_train, y_train)\n",
    "\n",
    "pprint(m)"
   ]
  },
  {
   "cell_type": "code",
   "execution_count": 5,
   "id": "eff59f04",
   "metadata": {},
   "outputs": [
    {
     "data": {
      "text/plain": [
       "0.8888888888888888"
      ]
     },
     "execution_count": 5,
     "metadata": {},
     "output_type": "execute_result"
    }
   ],
   "source": [
    "y_pred = clf.predict(X_test)\n",
    "def accuracy(y_pred, y_test):\n",
    "    return sum(y_pred == y_test) / len(y_pred)\n",
    "accuracy(y_pred, y_test)"
   ]
  }
 ],
 "metadata": {
  "kernelspec": {
   "display_name": "Python 3 (ipykernel)",
   "language": "python",
   "name": "python3"
  },
  "language_info": {
   "codemirror_mode": {
    "name": "ipython",
    "version": 3
   },
   "file_extension": ".py",
   "mimetype": "text/x-python",
   "name": "python",
   "nbconvert_exporter": "python",
   "pygments_lexer": "ipython3",
   "version": "3.9.7"
  }
 },
 "nbformat": 4,
 "nbformat_minor": 5
}
